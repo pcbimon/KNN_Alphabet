{
 "cells": [
  {
   "cell_type": "markdown",
   "id": "ded92374",
   "metadata": {},
   "source": [
    "# 1. Install and Import Dependencies"
   ]
  },
  {
   "cell_type": "code",
   "execution_count": 9,
   "id": "bef0a179",
   "metadata": {},
   "outputs": [
    {
     "name": "stdout",
     "output_type": "stream",
     "text": [
      "Requirement already satisfied: mediapipe in c:\\users\\ammn\\anaconda3\\lib\\site-packages (0.8.9)\n",
      "Requirement already satisfied: opencv-python in c:\\users\\ammn\\anaconda3\\lib\\site-packages (4.5.4.58)\n",
      "Requirement already satisfied: six in c:\\users\\ammn\\anaconda3\\lib\\site-packages (from mediapipe) (1.16.0)\n",
      "Requirement already satisfied: opencv-contrib-python in c:\\users\\ammn\\anaconda3\\lib\\site-packages (from mediapipe) (4.5.4.58)\n",
      "Requirement already satisfied: attrs>=19.1.0 in c:\\users\\ammn\\anaconda3\\lib\\site-packages (from mediapipe) (21.2.0)\n",
      "Requirement already satisfied: numpy in c:\\users\\ammn\\anaconda3\\lib\\site-packages (from mediapipe) (1.20.3)\n",
      "Requirement already satisfied: matplotlib in c:\\users\\ammn\\anaconda3\\lib\\site-packages (from mediapipe) (3.4.3)\n",
      "Requirement already satisfied: absl-py in c:\\users\\ammn\\anaconda3\\lib\\site-packages (from mediapipe) (1.0.0)\n",
      "Requirement already satisfied: wheel in c:\\users\\ammn\\anaconda3\\lib\\site-packages (from mediapipe) (0.37.0)\n",
      "Requirement already satisfied: protobuf>=3.11.4 in c:\\users\\ammn\\anaconda3\\lib\\site-packages (from mediapipe) (3.19.1)\n",
      "Requirement already satisfied: pyparsing>=2.2.1 in c:\\users\\ammn\\anaconda3\\lib\\site-packages (from matplotlib->mediapipe) (3.0.4)\n",
      "Requirement already satisfied: python-dateutil>=2.7 in c:\\users\\ammn\\anaconda3\\lib\\site-packages (from matplotlib->mediapipe) (2.8.2)\n",
      "Requirement already satisfied: kiwisolver>=1.0.1 in c:\\users\\ammn\\anaconda3\\lib\\site-packages (from matplotlib->mediapipe) (1.3.1)\n",
      "Requirement already satisfied: pillow>=6.2.0 in c:\\users\\ammn\\anaconda3\\lib\\site-packages (from matplotlib->mediapipe) (8.4.0)\n",
      "Requirement already satisfied: cycler>=0.10 in c:\\users\\ammn\\anaconda3\\lib\\site-packages (from matplotlib->mediapipe) (0.10.0)\n"
     ]
    }
   ],
   "source": [
    "!pip install mediapipe opencv-python"
   ]
  },
  {
   "cell_type": "code",
   "execution_count": 10,
   "id": "a1c5ec5f",
   "metadata": {},
   "outputs": [],
   "source": [
    "import mediapipe as mp\n",
    "import cv2\n",
    "import numpy as np\n",
    "import os"
   ]
  },
  {
   "cell_type": "code",
   "execution_count": 11,
   "id": "9a89062a",
   "metadata": {},
   "outputs": [],
   "source": [
    "mp_drawing = mp.solutions.drawing_utils\n",
    "mp_hands = mp.solutions.hands"
   ]
  },
  {
   "cell_type": "markdown",
   "id": "472577be",
   "metadata": {},
   "source": [
    "# 2.Create Folder Output Image"
   ]
  },
  {
   "cell_type": "code",
   "execution_count": 13,
   "id": "259ab996",
   "metadata": {},
   "outputs": [],
   "source": [
    "# Check Folder Exist\n",
    "BasePath = \"./archive/asl_alphabet_train\"\n",
    "isExist = os.path.exists(BasePath)\n",
    "if not isExist:\n",
    "  # Create a new directory because it does not exist \n",
    "  os.makedirs(BasePath)"
   ]
  },
  {
   "cell_type": "markdown",
   "id": "5d94f6cf",
   "metadata": {},
   "source": [
    "## Get Aplhabet from User"
   ]
  },
  {
   "cell_type": "code",
   "execution_count": 14,
   "id": "06d3e362",
   "metadata": {},
   "outputs": [
    {
     "name": "stdout",
     "output_type": "stream",
     "text": [
      "What's your alphabet want to capture? M\n"
     ]
    }
   ],
   "source": [
    "iAlpha = input(\"What's your alphabet want to capture? \")\n",
    "if(len(iAlpha) > 1 or (not iAlpha.isalpha())):\n",
    "    raise ValueError('Input is not Alphabet or more than 1 character')\n",
    "# Convert to Uppercase\n",
    "iAlpha = iAlpha.upper()\n",
    "# Create Alphabet Folder\n",
    "AlphaFolder = BasePath+\"/\"+iAlpha\n",
    "isAlphaFolderExist = os.path.exists(AlphaFolder)\n",
    "if not isAlphaFolderExist:\n",
    "  # Create a new directory because it does not exist \n",
    "  os.makedirs(AlphaFolder)"
   ]
  },
  {
   "cell_type": "markdown",
   "id": "f5fd0685",
   "metadata": {},
   "source": [
    "# 3. Capture Image from Hand Detection"
   ]
  },
  {
   "cell_type": "code",
   "execution_count": 16,
   "id": "98a6cf5f",
   "metadata": {},
   "outputs": [],
   "source": [
    "cap = cv2.VideoCapture(0)\n",
    "\n",
    "with mp_hands.Hands(min_detection_confidence=0.8, min_tracking_confidence=0.5,max_num_hands=1) as hands: \n",
    "    while cap.isOpened():\n",
    "        ret, frame = cap.read()\n",
    "        \n",
    "        # BGR 2 RGB\n",
    "        image = cv2.cvtColor(frame, cv2.COLOR_BGR2RGB)\n",
    "        \n",
    "        # Flip on horizontal\n",
    "        image = cv2.flip(image, 1)\n",
    "        \n",
    "        # Set flag\n",
    "        image.flags.writeable = False\n",
    "        \n",
    "        # Detections\n",
    "        results = hands.process(image)\n",
    "        \n",
    "        # Set flag to true\n",
    "        image.flags.writeable = True\n",
    "        \n",
    "        # RGB 2 BGR\n",
    "        image = cv2.cvtColor(image, cv2.COLOR_RGB2BGR)\n",
    "        \n",
    "        # Detections\n",
    "        # print(results)\n",
    "        \n",
    "        # Rendering results (not need)\n",
    "        #if results.multi_hand_landmarks:\n",
    "            #for num, hand in enumerate(results.multi_hand_landmarks):\n",
    "                #mp_drawing.draw_landmarks(image, hand, mp_hands.HAND_CONNECTIONS, \n",
    "                                        #mp_drawing.DrawingSpec(color=(121, 22, 76), thickness=2, circle_radius=4),\n",
    "                                        #mp_drawing.DrawingSpec(color=(250, 44, 250), thickness=2, circle_radius=2),\n",
    "                                        # )\n",
    "            \n",
    "        # Save our image on press 'c'    \n",
    "        if cv2.waitKey(10) & 0xFF == ord('c'):  \n",
    "            initial_count = 0\n",
    "            for path in os.listdir(AlphaFolder):\n",
    "                if os.path.isfile(os.path.join(AlphaFolder, path)):\n",
    "                    initial_count += 1\n",
    "            print(initial_count)\n",
    "            cv2.imwrite(os.path.join(AlphaFolder, iAlpha+ f'{initial_count:04d}' +'.jpg'), image)\n",
    "        cv2.imshow('Hand Tracking', image)\n",
    "\n",
    "        if cv2.waitKey(10) & 0xFF == ord('q'):\n",
    "            break\n",
    "\n",
    "cap.release()\n",
    "cv2.destroyAllWindows()"
   ]
  },
  {
   "cell_type": "code",
   "execution_count": null,
   "id": "802d7b5b",
   "metadata": {},
   "outputs": [],
   "source": []
  }
 ],
 "metadata": {
  "kernelspec": {
   "display_name": "Python 3 (ipykernel)",
   "language": "python",
   "name": "python3"
  },
  "language_info": {
   "codemirror_mode": {
    "name": "ipython",
    "version": 3
   },
   "file_extension": ".py",
   "mimetype": "text/x-python",
   "name": "python",
   "nbconvert_exporter": "python",
   "pygments_lexer": "ipython3",
   "version": "3.9.7"
  }
 },
 "nbformat": 4,
 "nbformat_minor": 5
}
