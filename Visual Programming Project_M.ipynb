{
 "cells": [
  {
   "cell_type": "code",
   "execution_count": 1,
   "metadata": {},
   "outputs": [
    {
     "name": "stdout",
     "output_type": "stream",
     "text": [
      "Requirement already satisfied: opencv-python in c:\\users\\ammn\\anaconda3\\lib\\site-packages (4.5.4.58)\n",
      "Requirement already satisfied: numpy>=1.19.3 in c:\\users\\ammn\\anaconda3\\lib\\site-packages (from opencv-python) (1.20.3)\n",
      "Requirement already satisfied: mediapipe in c:\\users\\ammn\\anaconda3\\lib\\site-packages (0.8.9)\n",
      "Requirement already satisfied: matplotlib in c:\\users\\ammn\\anaconda3\\lib\\site-packages (from mediapipe) (3.4.3)\n",
      "Requirement already satisfied: six in c:\\users\\ammn\\anaconda3\\lib\\site-packages (from mediapipe) (1.16.0)\n",
      "Requirement already satisfied: attrs>=19.1.0 in c:\\users\\ammn\\anaconda3\\lib\\site-packages (from mediapipe) (21.2.0)\n",
      "Requirement already satisfied: absl-py in c:\\users\\ammn\\anaconda3\\lib\\site-packages (from mediapipe) (1.0.0)\n",
      "Requirement already satisfied: wheel in c:\\users\\ammn\\anaconda3\\lib\\site-packages (from mediapipe) (0.37.0)\n",
      "Requirement already satisfied: opencv-contrib-python in c:\\users\\ammn\\anaconda3\\lib\\site-packages (from mediapipe) (4.5.4.58)\n",
      "Requirement already satisfied: protobuf>=3.11.4 in c:\\users\\ammn\\anaconda3\\lib\\site-packages (from mediapipe) (3.19.1)\n",
      "Requirement already satisfied: numpy in c:\\users\\ammn\\anaconda3\\lib\\site-packages (from mediapipe) (1.20.3)\n",
      "Requirement already satisfied: kiwisolver>=1.0.1 in c:\\users\\ammn\\anaconda3\\lib\\site-packages (from matplotlib->mediapipe) (1.3.1)\n",
      "Requirement already satisfied: python-dateutil>=2.7 in c:\\users\\ammn\\anaconda3\\lib\\site-packages (from matplotlib->mediapipe) (2.8.2)\n",
      "Requirement already satisfied: pyparsing>=2.2.1 in c:\\users\\ammn\\anaconda3\\lib\\site-packages (from matplotlib->mediapipe) (3.0.4)\n",
      "Requirement already satisfied: pillow>=6.2.0 in c:\\users\\ammn\\anaconda3\\lib\\site-packages (from matplotlib->mediapipe) (8.4.0)\n",
      "Requirement already satisfied: cycler>=0.10 in c:\\users\\ammn\\anaconda3\\lib\\site-packages (from matplotlib->mediapipe) (0.10.0)\n",
      "Requirement already satisfied: scikit-learn in c:\\users\\ammn\\anaconda3\\lib\\site-packages (0.24.2)\n",
      "Requirement already satisfied: joblib>=0.11 in c:\\users\\ammn\\anaconda3\\lib\\site-packages (from scikit-learn) (1.1.0)\n",
      "Requirement already satisfied: numpy>=1.13.3 in c:\\users\\ammn\\anaconda3\\lib\\site-packages (from scikit-learn) (1.20.3)\n",
      "Requirement already satisfied: threadpoolctl>=2.0.0 in c:\\users\\ammn\\anaconda3\\lib\\site-packages (from scikit-learn) (2.2.0)\n",
      "Requirement already satisfied: scipy>=0.19.1 in c:\\users\\ammn\\anaconda3\\lib\\site-packages (from scikit-learn) (1.7.1)\n",
      "Requirement already satisfied: cvzone in c:\\users\\ammn\\anaconda3\\lib\\site-packages (1.5.3)\n",
      "Requirement already satisfied: numpy in c:\\users\\ammn\\anaconda3\\lib\\site-packages (from cvzone) (1.20.3)\n",
      "Requirement already satisfied: opencv-python in c:\\users\\ammn\\anaconda3\\lib\\site-packages (from cvzone) (4.5.4.58)\n",
      "Requirement already satisfied: imutils in c:\\users\\ammn\\anaconda3\\lib\\site-packages (0.5.4)\n"
     ]
    }
   ],
   "source": [
    "!pip install opencv-python\n",
    "!pip install mediapipe\n",
    "!pip install scikit-learn\n",
    "!pip install cvzone\n",
    "!pip install imutils"
   ]
  },
  {
   "cell_type": "markdown",
   "metadata": {},
   "source": [
    "# 1. Importing libraries and defining dataset"
   ]
  },
  {
   "cell_type": "code",
   "execution_count": 2,
   "metadata": {},
   "outputs": [],
   "source": [
    "# For capturing hand coordinates\n",
    "import cv2\n",
    "import cvzone\n",
    "import mediapipe as mp\n",
    "\n",
    "# For processing data\n",
    "import pandas as pd\n",
    "import numpy as np\n",
    "\n",
    "#For check file\n",
    "import os\n",
    "import time\n",
    "import webbrowser\n",
    "\n",
    "#resize image\n",
    "import imutils\n",
    "import tkinter as tk"
   ]
  },
  {
   "cell_type": "code",
   "execution_count": 3,
   "metadata": {},
   "outputs": [
    {
     "data": {
      "text/html": [
       "<div>\n",
       "<style scoped>\n",
       "    .dataframe tbody tr th:only-of-type {\n",
       "        vertical-align: middle;\n",
       "    }\n",
       "\n",
       "    .dataframe tbody tr th {\n",
       "        vertical-align: top;\n",
       "    }\n",
       "\n",
       "    .dataframe thead th {\n",
       "        text-align: right;\n",
       "    }\n",
       "</style>\n",
       "<table border=\"1\" class=\"dataframe\">\n",
       "  <thead>\n",
       "    <tr style=\"text-align: right;\">\n",
       "      <th></th>\n",
       "      <th>class</th>\n",
       "      <th>x1</th>\n",
       "      <th>y1</th>\n",
       "      <th>x2</th>\n",
       "      <th>y2</th>\n",
       "      <th>x3</th>\n",
       "      <th>y3</th>\n",
       "      <th>x4</th>\n",
       "      <th>y4</th>\n",
       "      <th>x5</th>\n",
       "      <th>...</th>\n",
       "      <th>x17</th>\n",
       "      <th>y17</th>\n",
       "      <th>x18</th>\n",
       "      <th>y18</th>\n",
       "      <th>x19</th>\n",
       "      <th>y19</th>\n",
       "      <th>x20</th>\n",
       "      <th>y20</th>\n",
       "      <th>x21</th>\n",
       "      <th>y21</th>\n",
       "    </tr>\n",
       "  </thead>\n",
       "  <tbody>\n",
       "    <tr>\n",
       "      <th>0</th>\n",
       "      <td>A</td>\n",
       "      <td>0.530803</td>\n",
       "      <td>0.581163</td>\n",
       "      <td>0.413990</td>\n",
       "      <td>0.501149</td>\n",
       "      <td>0.355407</td>\n",
       "      <td>0.369223</td>\n",
       "      <td>0.345517</td>\n",
       "      <td>0.263534</td>\n",
       "      <td>0.354250</td>\n",
       "      <td>...</td>\n",
       "      <td>0.534037</td>\n",
       "      <td>0.476981</td>\n",
       "      <td>0.665000</td>\n",
       "      <td>0.338577</td>\n",
       "      <td>0.605741</td>\n",
       "      <td>0.320499</td>\n",
       "      <td>0.588447</td>\n",
       "      <td>0.400885</td>\n",
       "      <td>0.594126</td>\n",
       "      <td>0.455363</td>\n",
       "    </tr>\n",
       "    <tr>\n",
       "      <th>1</th>\n",
       "      <td>A</td>\n",
       "      <td>0.503664</td>\n",
       "      <td>0.616673</td>\n",
       "      <td>0.377512</td>\n",
       "      <td>0.536617</td>\n",
       "      <td>0.317852</td>\n",
       "      <td>0.408111</td>\n",
       "      <td>0.306450</td>\n",
       "      <td>0.296595</td>\n",
       "      <td>0.316670</td>\n",
       "      <td>...</td>\n",
       "      <td>0.494619</td>\n",
       "      <td>0.508490</td>\n",
       "      <td>0.635405</td>\n",
       "      <td>0.349954</td>\n",
       "      <td>0.561715</td>\n",
       "      <td>0.359349</td>\n",
       "      <td>0.546541</td>\n",
       "      <td>0.440563</td>\n",
       "      <td>0.551058</td>\n",
       "      <td>0.498263</td>\n",
       "    </tr>\n",
       "    <tr>\n",
       "      <th>2</th>\n",
       "      <td>A</td>\n",
       "      <td>0.267808</td>\n",
       "      <td>0.670679</td>\n",
       "      <td>0.187360</td>\n",
       "      <td>0.610215</td>\n",
       "      <td>0.141140</td>\n",
       "      <td>0.503103</td>\n",
       "      <td>0.133638</td>\n",
       "      <td>0.422246</td>\n",
       "      <td>0.138989</td>\n",
       "      <td>...</td>\n",
       "      <td>0.298920</td>\n",
       "      <td>0.586336</td>\n",
       "      <td>0.368706</td>\n",
       "      <td>0.504098</td>\n",
       "      <td>0.369881</td>\n",
       "      <td>0.461587</td>\n",
       "      <td>0.362212</td>\n",
       "      <td>0.517269</td>\n",
       "      <td>0.349507</td>\n",
       "      <td>0.565708</td>\n",
       "    </tr>\n",
       "    <tr>\n",
       "      <th>3</th>\n",
       "      <td>A</td>\n",
       "      <td>0.289091</td>\n",
       "      <td>0.751779</td>\n",
       "      <td>0.167962</td>\n",
       "      <td>0.654705</td>\n",
       "      <td>0.100007</td>\n",
       "      <td>0.499485</td>\n",
       "      <td>0.095107</td>\n",
       "      <td>0.371244</td>\n",
       "      <td>0.122449</td>\n",
       "      <td>...</td>\n",
       "      <td>0.294725</td>\n",
       "      <td>0.624627</td>\n",
       "      <td>0.457846</td>\n",
       "      <td>0.480413</td>\n",
       "      <td>0.393687</td>\n",
       "      <td>0.455553</td>\n",
       "      <td>0.365366</td>\n",
       "      <td>0.547497</td>\n",
       "      <td>0.356335</td>\n",
       "      <td>0.612805</td>\n",
       "    </tr>\n",
       "    <tr>\n",
       "      <th>4</th>\n",
       "      <td>A</td>\n",
       "      <td>0.285160</td>\n",
       "      <td>0.762803</td>\n",
       "      <td>0.161197</td>\n",
       "      <td>0.667723</td>\n",
       "      <td>0.094453</td>\n",
       "      <td>0.512100</td>\n",
       "      <td>0.090644</td>\n",
       "      <td>0.383932</td>\n",
       "      <td>0.113567</td>\n",
       "      <td>...</td>\n",
       "      <td>0.292644</td>\n",
       "      <td>0.635424</td>\n",
       "      <td>0.450271</td>\n",
       "      <td>0.489606</td>\n",
       "      <td>0.388296</td>\n",
       "      <td>0.466932</td>\n",
       "      <td>0.361084</td>\n",
       "      <td>0.560643</td>\n",
       "      <td>0.352804</td>\n",
       "      <td>0.623975</td>\n",
       "    </tr>\n",
       "  </tbody>\n",
       "</table>\n",
       "<p>5 rows × 43 columns</p>\n",
       "</div>"
      ],
      "text/plain": [
       "  class        x1        y1        x2        y2        x3        y3        x4  \\\n",
       "0     A  0.530803  0.581163  0.413990  0.501149  0.355407  0.369223  0.345517   \n",
       "1     A  0.503664  0.616673  0.377512  0.536617  0.317852  0.408111  0.306450   \n",
       "2     A  0.267808  0.670679  0.187360  0.610215  0.141140  0.503103  0.133638   \n",
       "3     A  0.289091  0.751779  0.167962  0.654705  0.100007  0.499485  0.095107   \n",
       "4     A  0.285160  0.762803  0.161197  0.667723  0.094453  0.512100  0.090644   \n",
       "\n",
       "         y4        x5  ...       x17       y17       x18       y18       x19  \\\n",
       "0  0.263534  0.354250  ...  0.534037  0.476981  0.665000  0.338577  0.605741   \n",
       "1  0.296595  0.316670  ...  0.494619  0.508490  0.635405  0.349954  0.561715   \n",
       "2  0.422246  0.138989  ...  0.298920  0.586336  0.368706  0.504098  0.369881   \n",
       "3  0.371244  0.122449  ...  0.294725  0.624627  0.457846  0.480413  0.393687   \n",
       "4  0.383932  0.113567  ...  0.292644  0.635424  0.450271  0.489606  0.388296   \n",
       "\n",
       "        y19       x20       y20       x21       y21  \n",
       "0  0.320499  0.588447  0.400885  0.594126  0.455363  \n",
       "1  0.359349  0.546541  0.440563  0.551058  0.498263  \n",
       "2  0.461587  0.362212  0.517269  0.349507  0.565708  \n",
       "3  0.455553  0.365366  0.547497  0.356335  0.612805  \n",
       "4  0.466932  0.361084  0.560643  0.352804  0.623975  \n",
       "\n",
       "[5 rows x 43 columns]"
      ]
     },
     "execution_count": 3,
     "metadata": {},
     "output_type": "execute_result"
    }
   ],
   "source": [
    "# dataset = pd.read_csv('./Dataset/hand_dataset_1000_24.csv')\n",
    "# dataset = pd.read_csv('./Dataset/hand_dataset_3000.csv')\n",
    "dataset = pd.read_csv('./Dataset/hand_dataset_MAI_3000.csv')\n",
    "# dataset = pd.read_csv('./Dataset/hand_dataset_MAI_3000_space_del.csv')\n",
    "\n",
    "# Show dataset first five data\n",
    "dataset.head()"
   ]
  },
  {
   "cell_type": "code",
   "execution_count": 4,
   "metadata": {},
   "outputs": [
    {
     "data": {
      "text/plain": [
       "I    2393\n",
       "A    2180\n",
       "M    1675\n",
       "Name: class, dtype: int64"
      ]
     },
     "execution_count": 4,
     "metadata": {},
     "output_type": "execute_result"
    }
   ],
   "source": [
    "# Show dataset overview, should return 1000 for each alphabet (excluding y and z)\n",
    "dataset['class'].value_counts()"
   ]
  },
  {
   "cell_type": "markdown",
   "metadata": {},
   "source": [
    "# 2. Creating Train and Test Data\n",
    "- We use *train_test_split* since we don't really have test dataset.\n",
    "- Normalizing dataset can be ignored, since we predict our data directly using raw handlandmark. "
   ]
  },
  {
   "cell_type": "code",
   "execution_count": 5,
   "metadata": {},
   "outputs": [],
   "source": [
    "# Defining X and Y from dataset for training and testing\n",
    "\n",
    "X = dataset.iloc[:, 1:].values\n",
    "Y = dataset.iloc[:, 0].values"
   ]
  },
  {
   "cell_type": "code",
   "execution_count": 6,
   "metadata": {},
   "outputs": [],
   "source": [
    "from sklearn.model_selection import train_test_split\n",
    "\n",
    "# We will take 33% from 1000 for our test data.\n",
    "# Recommended value 80:20, 67:33, 50:50\n",
    "X_train, X_test, y_train, y_test = train_test_split(X, Y, test_size=0.80)"
   ]
  },
  {
   "cell_type": "code",
   "execution_count": 7,
   "metadata": {},
   "outputs": [],
   "source": [
    "#Normalize / Standarize dataset\n",
    "\n",
    "from sklearn.preprocessing import StandardScaler\n",
    "scaler = StandardScaler().fit(X_train)\n",
    "\n",
    "X_train = scaler.transform(X_train)\n",
    "X_test = scaler.transform(X_test)"
   ]
  },
  {
   "cell_type": "markdown",
   "metadata": {},
   "source": [
    "# 3. Creating classifier model for our alphabet recognition.\n",
    "- *n_neighbors* can be adjusted as we provide graph for mean errors for each *n_neighbors*"
   ]
  },
  {
   "cell_type": "code",
   "execution_count": 8,
   "metadata": {},
   "outputs": [
    {
     "data": {
      "text/plain": [
       "KNeighborsClassifier(n_neighbors=3)"
      ]
     },
     "execution_count": 8,
     "metadata": {},
     "output_type": "execute_result"
    }
   ],
   "source": [
    "from sklearn.neighbors import KNeighborsClassifier\n",
    "classifier = KNeighborsClassifier(n_neighbors=3)\n",
    "classifier.fit(X_train, y_train)"
   ]
  },
  {
   "cell_type": "markdown",
   "metadata": {},
   "source": [
    "# 4. Calculate model accuracy"
   ]
  },
  {
   "cell_type": "code",
   "execution_count": 9,
   "metadata": {},
   "outputs": [],
   "source": [
    "y_pred = classifier.predict(X_test)"
   ]
  },
  {
   "cell_type": "code",
   "execution_count": 10,
   "metadata": {},
   "outputs": [
    {
     "name": "stdout",
     "output_type": "stream",
     "text": [
      "              precision    recall  f1-score   support\n",
      "\n",
      "           A       0.96      0.99      0.98      1721\n",
      "           I       0.99      1.00      0.99      1914\n",
      "           M       0.99      0.95      0.97      1364\n",
      "\n",
      "    accuracy                           0.98      4999\n",
      "   macro avg       0.98      0.98      0.98      4999\n",
      "weighted avg       0.98      0.98      0.98      4999\n",
      "\n",
      "0.9815963192638528\n"
     ]
    }
   ],
   "source": [
    "from sklearn.metrics import classification_report, accuracy_score\n",
    "print(classification_report(y_test, y_pred))\n",
    "print(accuracy_score(y_test, y_pred))"
   ]
  },
  {
   "cell_type": "markdown",
   "metadata": {},
   "source": [
    "# 5. Show graph for adjusting number of *n_neighbors*"
   ]
  },
  {
   "cell_type": "code",
   "execution_count": 11,
   "metadata": {},
   "outputs": [],
   "source": [
    "error = []\n",
    "\n",
    "# Calculating error for K values between 1 and 40\n",
    "for i in range(1, 40):\n",
    "    knn = KNeighborsClassifier(n_neighbors=i)\n",
    "    knn.fit(X_train, y_train)\n",
    "    pred_i = knn.predict(X_test)\n",
    "    error.append(np.mean(pred_i != y_test))"
   ]
  },
  {
   "cell_type": "code",
   "execution_count": 12,
   "metadata": {},
   "outputs": [
    {
     "data": {
      "text/plain": [
       "Text(0, 0.5, 'Mean Error')"
      ]
     },
     "execution_count": 12,
     "metadata": {},
     "output_type": "execute_result"
    },
    {
     "data": {
      "image/png": "[encoded data removed]",
      "text/plain": [
       "<Figure size 864x432 with 1 Axes>"
      ]
     },
     "metadata": {
      "needs_background": "light"
     },
     "output_type": "display_data"
    }
   ],
   "source": [
    "import matplotlib.pyplot as plt\n",
    "\n",
    "plt.figure(figsize=(12, 6))\n",
    "plt.plot(range(1, 40), error, color='red', linestyle='dashed', marker='o',\n",
    "         markerfacecolor='blue', markersize=10)\n",
    "plt.title('Error Rate K Value')\n",
    "plt.xlabel('K Value')\n",
    "plt.ylabel('Mean Error')"
   ]
  },
  {
   "cell_type": "markdown",
   "metadata": {},
   "source": [
    "# 6. Intialize Mediapipe Hands for alphabet recognition."
   ]
  },
  {
   "cell_type": "code",
   "execution_count": 13,
   "metadata": {},
   "outputs": [],
   "source": [
    "# Initialize mediapipe hand\n",
    "\n",
    "mp_drawing = mp.solutions.drawing_utils\n",
    "mp_hands = mp.solutions.hands\n",
    "\n",
    "# init Check Var MAI\n",
    "M = False\n",
    "A = False\n",
    "I = False"
   ]
  },
  {
   "cell_type": "code",
   "execution_count": 14,
   "metadata": {},
   "outputs": [],
   "source": [
    "result = []\n",
    "root = tk.Tk()\n",
    "screen_width = root.winfo_screenwidth()\n",
    "screen_height = root.winfo_screenheight()\n",
    "window_width = screen_width/3\n",
    "window_height = screen_height-80\n",
    "# Count File In Folder\n",
    "def countFile(Ipath):\n",
    "    initial_count = 0\n",
    "    for path in os.listdir(Ipath):\n",
    "        if os.path.isfile(os.path.join(Ipath, path)):\n",
    "            initial_count += 1\n",
    "    return initial_count\n",
    "# Create Function to Detect complete label \"M\",\"A\",\"I\"\n",
    "def isComplete():\n",
    "    if(M == True and A == True and I == True):\n",
    "        return True\n",
    "    else:\n",
    "        return False\n",
    "def checkAlpha(alph,checkOnLabel):\n",
    "    global result\n",
    "    result.append(alph)\n",
    "    if(len(result)>=2):\n",
    "        if(result[len(result)-1] == result[len(result)-2] and result[len(result)-1] == checkOnLabel):\n",
    "            return True\n",
    "        else:\n",
    "            result.clear()\n",
    "            return False\n",
    "    else:\n",
    "        return False\n",
    "def DisplayCheckAlpha():\n",
    "    global M\n",
    "    global A\n",
    "    global I\n",
    "    result = \"_|_|_\"\n",
    "    arr = result.split(\"|\");\n",
    "    if(M==True):\n",
    "        arr[0]=\"M\"\n",
    "    if(A==True):\n",
    "        arr[1]=\"A\"\n",
    "    if(I==True):\n",
    "        arr[2]=\"I\"\n",
    "    print(\"M : \"+str(M)+\" A : \"+str(A)+\" I : \"+str(I))\n",
    "    return arr[0]+arr[1]+arr[2]\n",
    "# Write detect file\n",
    "def writeFile(iAlpha,img):\n",
    "    BasePath = \"./archive/ceremony/\"+iAlpha\n",
    "    isExist = os.path.exists(BasePath)\n",
    "    if not isExist:\n",
    "        os.makedirs(BasePath)\n",
    "    cv2.imwrite(os.path.join(BasePath, f'{countFile(BasePath):04d}' +'.jpg'), img)\n",
    "def __draw_label(img, text, pos, bg_color,text_color=(0, 0, 0)):\n",
    "    font_face = cv2.FONT_HERSHEY_SIMPLEX\n",
    "    scale = 5\n",
    "    color = text_color\n",
    "    thickness = cv2.FILLED\n",
    "    margin = 2\n",
    "\n",
    "    txt_size = cv2.getTextSize(text, font_face, scale, thickness)\n",
    "\n",
    "    end_x = pos[0] + txt_size[0][0] + margin\n",
    "    end_y = pos[1] - txt_size[0][1] - margin-20\n",
    "\n",
    "    cv2.rectangle(img, (pos[0],pos[1]+20), (end_x, end_y), bg_color, thickness)\n",
    "    cv2.putText(img, text, pos, font_face, scale, color, 10, cv2.LINE_AA)\n",
    "def rescale_frame(frame):\n",
    "    global screen_width,screen_height,window_width,window_height\n",
    "    frame_width = int(frame.shape[1])\n",
    "    frame_height = int(frame.shape[0])\n",
    "    #crop image\n",
    "    crop_width = (frame_height/window_height)*window_width\n",
    "    crop_height = frame_height\n",
    "    x1 = (frame_width/2)-(crop_width/2)\n",
    "    x2 = (frame_width/2)+(crop_width/2)\n",
    "    frame_croped = frame[0:int(frame_height), int(x1):int(x2)]\n",
    "    #resize image\n",
    "    dim = (int(window_width), int(window_height))\n",
    "    return cv2.resize(frame_croped, dim, interpolation =cv2.INTER_AREA)\n",
    "def startXPosition(index):\n",
    "    xList = [0,0,0]\n",
    "    root = tk.Tk()\n",
    "    screen_width = root.winfo_screenwidth()\n",
    "    screen_height = root.winfo_screenheight()\n",
    "    for i in range(len(xList)):\n",
    "        if(i > 0):\n",
    "            xList[i] = xList[i-1]+int(screen_width/3)\n",
    "    return xList[index]"
   ]
  },
  {
   "cell_type": "code",
   "execution_count": 15,
   "metadata": {},
   "outputs": [],
   "source": [
    "currentProjectLabel = \"M\"\n",
    "alphabetHand = cv2.imread('./images/static/'+currentProjectLabel+'_Hand.png', cv2.IMREAD_UNCHANGED)\n",
    "passImage = cv2.imread('./images/static/checked.png', cv2.IMREAD_UNCHANGED)\n",
    "passImage = cv2.resize(passImage,(0,0),None,0.1,0.1)\n",
    "alphabetHand = cv2.resize(alphabetHand,(0,0),None,1,1)"
   ]
  },
  {
   "cell_type": "code",
   "execution_count": 16,
   "metadata": {},
   "outputs": [],
   "source": [
    "def DetectionAlpha(currentProjectLabel,videoRecorderIndex,windowpositionX,windowpositionY):\n",
    "    cap = cv2.VideoCapture(videoRecorderIndex)\n",
    "    success,img = cap.read()\n",
    "    isStartCheck = False\n",
    "    global alphabetHand,passImage\n",
    "    checkedImg = passImage\n",
    "    overlay = alphabetHand\n",
    "    hf,wh,cf = overlay.shape\n",
    "    hc,wc,cc = checkedImg.shape\n",
    "    captureImg = img\n",
    "    prepareWin = \"Hand Tracking\"\n",
    "    displayResultWindowName = \"Display Result - \"+currentProjectLabel\n",
    "    isComplete = False\n",
    "    with mp_hands.Hands(\n",
    "        max_num_hands = 1,\n",
    "        min_detection_confidence=0.5,\n",
    "        min_tracking_confidence=0.5) as hands:\n",
    "        start_time = time.time()\n",
    "        DELAY_SECONDS = 5\n",
    "        t1 = time.time()\n",
    "        while cap.isOpened():\n",
    "            success, image = cap.read()\n",
    "            # resize image\n",
    "            image = rescale_frame(image)\n",
    "            hb,wb,cb = image.shape\n",
    "            if not success:\n",
    "                print(\"Ignoring empty camera frame.\")\n",
    "                # If loading a video, use 'break' instead of 'continue'.\n",
    "                continue\n",
    "            # Flip the image horizontally for a later selfie-view display, and convert\n",
    "            # the BGR image to RGB.\n",
    "            image = cv2.cvtColor(cv2.flip(image, 1), cv2.COLOR_BGR2RGB)\n",
    "\n",
    "            # To improve performance, optionally mark the image as not writeable to\n",
    "            # pass by reference.\n",
    "            image.flags.writeable = False\n",
    "            results = hands.process(image)\n",
    "\n",
    "            # Draw the hand annotations on the image.\n",
    "            image.flags.writeable = True\n",
    "            image = cv2.cvtColor(image, cv2.COLOR_RGB2BGR)\n",
    "\n",
    "            # Draw Alphabet and Hand\n",
    "            __draw_label(image, currentProjectLabel, (wb-100,150), (255,255,255))\n",
    "            image = cvzone.overlayPNG(image,overlay,[0,0])\n",
    "\n",
    "            # Get status box\n",
    "            cv2.rectangle(image, (0,hb-80), (200, hb), (245, 90, 16), -1)\n",
    "    #         cv2.putText(image, DisplayCheckAlpha(), (20,25), cv2.FONT_HERSHEY_SIMPLEX, 1, (255, 255, 255), 2, cv2.LINE_AA)\n",
    "            # Display Class\n",
    "            isSameAlpha = False\n",
    "            key = cv2.waitKey(1)\n",
    "            if key == ord(\"p\"):\n",
    "                key = cv2.waitKey(-1)\n",
    "            if not results.multi_hand_world_landmarks:\n",
    "                t1 = time.time()\n",
    "                isStartCheck = False\n",
    "            if results.multi_hand_landmarks:\n",
    "                for hand_landmarks in results.multi_hand_landmarks:\n",
    "                    coords = hand_landmarks.landmark\n",
    "                    mp_drawing.draw_landmarks(image, hand_landmarks, mp_hands.HAND_CONNECTIONS)\n",
    "                    coords = list(np.array([[landmark.x, landmark.y] for landmark in coords]).flatten())\n",
    "    #                 coords = list(np.array([[landmark.x, landmark.y, landmark.z] for landmark in coords]).flatten())\n",
    "                    coords = scaler.transform([coords])\n",
    "\n",
    "                    # Alternative for dataset using z coordinates.\n",
    "                    # Z coordinates is not recommended, since you need to adjust your distance from camera.\n",
    "\n",
    "\n",
    "                    predicted = classifier.predict(coords)\n",
    "                cv2.putText(image, \"Found : \"+str(predicted[0])\n",
    "                            , (20,hb-30), cv2.FONT_HERSHEY_SIMPLEX, 1, (255, 255, 255), 2, cv2.LINE_AA)\n",
    "\n",
    "                if(len(predicted) > 0):\n",
    "                    isSameAlpha = checkAlpha(predicted[0],currentProjectLabel)\n",
    "                    if(isSameAlpha == True and isStartCheck == False):\n",
    "                        t1 = time.time()\n",
    "                        isStartCheck = True\n",
    "                    if(isSameAlpha == True and isStartCheck == True):\n",
    "                        duration = time.time()-t1\n",
    "                        esmateTime = (DELAY_SECONDS - duration)\n",
    "                        if(esmateTime < 0):\n",
    "                            esmateTime = 0\n",
    "                        cv2.putText(image, format(esmateTime, '.0f')\n",
    "                            , (wb-40,hb-20), cv2.FONT_HERSHEY_SIMPLEX, 1, (0, 0, 0), 2, cv2.LINE_AA)\n",
    "                        if(duration >=DELAY_SECONDS):\n",
    "                            print(\"Checked\")\n",
    "                            t1 = time.time()\n",
    "                            isStartCheck = False\n",
    "                            # Capture image and Display\n",
    "                            writeFile(currentProjectLabel,image)\n",
    "                            captureImg = image\n",
    "                            isComplete = True\n",
    "                            __draw_label(captureImg, currentProjectLabel, (wb-100,150), (0,128,0),(255, 255, 255))\n",
    "                            captureImg = cvzone.overlayPNG(captureImg,checkedImg,[int(wb/2)-50,hb-hc-20])\n",
    "                            \n",
    "                            cv2.imshow(displayResultWindowName, captureImg)\n",
    "                            # Move window to position\n",
    "                            cv2.moveWindow(displayResultWindowName,windowpositionX,windowpositionY)\n",
    "#                             waitK = cv2.waitKey(0)\n",
    "#                             break\n",
    "                    if(isSameAlpha == False and isStartCheck == True):\n",
    "                        t1 = time.time()\n",
    "                        isStartCheck = False\n",
    "            try:\n",
    "                cv2.imshow(prepareWin, image)\n",
    "                # Move window to position\n",
    "                cv2.moveWindow(prepareWin,windowpositionX,windowpositionY)\n",
    "            except:\n",
    "                print(\"Error on Creating Capture\")\n",
    "            key = cv2.waitKey(5)\n",
    "            if key & 0xFF == ord(currentProjectLabel.lower()):\n",
    "                try:\n",
    "                    cv2.destroyWindow(displayResultWindowName)\n",
    "                    print(displayResultWindowName + \" is closed\")\n",
    "                except:\n",
    "                    print(displayResultWindowName + \" is not opened\")\n",
    "            # on press esc to quit\n",
    "            if cv2.waitKey(5) & 0xFF == 27:\n",
    "                break\n",
    "    cap.release()\n",
    "    cv2.destroyAllWindows()"
   ]
  },
  {
   "cell_type": "code",
   "execution_count": 17,
   "metadata": {},
   "outputs": [
    {
     "name": "stdout",
     "output_type": "stream",
     "text": [
      "M\n"
     ]
    }
   ],
   "source": [
    "# Start Detection function\n",
    "global currentProjectLabel\n",
    "print(currentProjectLabel)\n",
    "DetectionAlpha(currentProjectLabel,0,startXPosition(0),0)"
   ]
  },
  {
   "cell_type": "code",
   "execution_count": null,
   "metadata": {},
   "outputs": [],
   "source": []
  }
 ],
 "metadata": {
  "kernelspec": {
   "display_name": "Python 3 (ipykernel)",
   "language": "python",
   "name": "python3"
  },
  "language_info": {
   "codemirror_mode": {
    "name": "ipython",
    "version": 3
   },
   "file_extension": ".py",
   "mimetype": "text/x-python",
   "name": "python",
   "nbconvert_exporter": "python",
   "pygments_lexer": "ipython3",
   "version": "3.9.7"
  }
 },
 "nbformat": 4,
 "nbformat_minor": 4
}
