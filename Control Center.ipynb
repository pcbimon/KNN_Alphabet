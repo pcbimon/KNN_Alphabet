{
 "cells": [
  {
   "cell_type": "code",
   "execution_count": null,
   "id": "7b7ed3c7",
   "metadata": {},
   "outputs": [],
   "source": [
    "import sqlite3\n",
    "con = sqlite3.connect('celemony.db')\n",
    "cur = con.cursor()\n",
    "cur.execute(\"select * from config\")\n",
    "# check all\n",
    "data = cur.fetchall()\n",
    "print(data)\n",
    "con.close()"
   ]
  },
  {
   "cell_type": "markdown",
   "id": "810e97e3",
   "metadata": {},
   "source": [
    "### Update P1ByPass -> Enable"
   ]
  },
  {
   "cell_type": "code",
   "execution_count": null,
   "id": "927acfcc",
   "metadata": {},
   "outputs": [],
   "source": [
    "con = sqlite3.connect('celemony.db')\n",
    "cur = con.cursor()\n",
    "cur.execute(\"update config set amount=1 where title='p1ByPass'\")\n",
    "con.commit()\n",
    "con.close()"
   ]
  },
  {
   "cell_type": "markdown",
   "id": "4bd73b37",
   "metadata": {},
   "source": [
    "### Update P1ByPass -> Disable"
   ]
  },
  {
   "cell_type": "code",
   "execution_count": null,
   "id": "a0a1c155",
   "metadata": {},
   "outputs": [],
   "source": [
    "con = sqlite3.connect('celemony.db')\n",
    "cur = con.cursor()\n",
    "cur.execute(\"update config set amount=0 where title='p1ByPass'\")\n",
    "con.commit()\n",
    "con.close()"
   ]
  },
  {
   "cell_type": "markdown",
   "id": "a47019cb",
   "metadata": {},
   "source": [
    "### Update P2ByPass -> Enable"
   ]
  },
  {
   "cell_type": "code",
   "execution_count": null,
   "id": "0a2b3204",
   "metadata": {},
   "outputs": [],
   "source": [
    "con = sqlite3.connect('celemony.db')\n",
    "cur = con.cursor()\n",
    "cur.execute(\"update config set amount=1 where title='p2ByPass'\")\n",
    "con.commit()\n",
    "con.close()"
   ]
  },
  {
   "cell_type": "markdown",
   "id": "332709d5",
   "metadata": {},
   "source": [
    "### Update P2ByPass -> Disable"
   ]
  },
  {
   "cell_type": "code",
   "execution_count": null,
   "id": "9e34a6eb",
   "metadata": {},
   "outputs": [],
   "source": [
    "con = sqlite3.connect('celemony.db')\n",
    "cur = con.cursor()\n",
    "cur.execute(\"update config set amount=0 where title='p2ByPass'\")\n",
    "con.commit()\n",
    "con.close()"
   ]
  }
 ],
 "metadata": {
  "kernelspec": {
   "display_name": "Python 3 (ipykernel)",
   "language": "python",
   "name": "python3"
  },
  "language_info": {
   "codemirror_mode": {
    "name": "ipython",
    "version": 3
   },
   "file_extension": ".py",
   "mimetype": "text/x-python",
   "name": "python",
   "nbconvert_exporter": "python",
   "pygments_lexer": "ipython3",
   "version": "3.9.7"
  }
 },
 "nbformat": 4,
 "nbformat_minor": 5
}
