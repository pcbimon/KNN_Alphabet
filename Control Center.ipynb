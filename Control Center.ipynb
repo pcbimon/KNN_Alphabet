{
 "cells": [
  {
   "cell_type": "code",
   "execution_count": 6,
   "metadata": {},
   "outputs": [
    {
     "name": "stdout",
     "output_type": "stream",
     "text": [
      "[('p1ByPass', 0), ('p2ByPass', 0), ('p1Status', 0), ('p2Status', 0)]\n"
     ]
    }
   ],
   "source": [
    "import sqlite3\n",
    "import cv2\n",
    "con = sqlite3.connect('celemony.db')\n",
    "cur = con.cursor()\n",
    "if(cv2.getWindowProperty(\"Hand Tracking - A\",cv2.WND_PROP_VISIBLE)==0 and cv2.getWindowProperty(\"Display Result - A\",cv2.WND_PROP_VISIBLE)==0):\n",
    "    cur.execute(\"update config set amount=0 where title='p1Status'\")\n",
    "    con.commit()\n",
    "if(cv2.getWindowProperty(\"Hand Tracking - I\",cv2.WND_PROP_VISIBLE)==0 and cv2.getWindowProperty(\"Display Result - I\",cv2.WND_PROP_VISIBLE)==0):\n",
    "    cur.execute(\"update config set amount=0 where title='p2Status'\")\n",
    "    con.commit()\n",
    "cur.execute(\"select * from config\")\n",
    "# check all\n",
    "data = cur.fetchall()\n",
    "print(data)\n",
    "con.close()\n",
    "# p1ByPass = 1 is Enable\n",
    "# p1ByPass = 0 is Disable\n",
    "# p1Status = 1 is Running\n",
    "# p1Status = 0 is Stop\n",
    "# p1Status = -1 is Reset"
   ]
  },
  {
   "cell_type": "code",
   "execution_count": null,
   "metadata": {},
   "outputs": [],
   "source": [
    "con = sqlite3.connect('celemony.db')\n",
    "cur = con.cursor()\n",
    "cur.execute('''CREATE TABLE IF NOT EXISTS config\n",
    "               (title text, amount INTEGER)''')\n",
    "cur.execute(\"select * from config where title=:title\", {\"title\": \"p1ByPass\"})\n",
    "# check p1ByPass\n",
    "data = cur.fetchall()\n",
    "if len(data) == 0:\n",
    "    print('init p1ByPass')\n",
    "    cur.execute(\"insert into config values (?,?)\", [(\"p1ByPass\"),(\"0\")])\n",
    "    con.commit()\n",
    "cur.execute(\"select * from config where title=:title\", {\"title\": \"p1Status\"})\n",
    "# check p1Status\n",
    "data = cur.fetchall()\n",
    "if len(data) == 0:\n",
    "    cur.execute(\"insert into config values (?,?)\", [(\"p1Status\"),(\"0\")])\n",
    "    con.commit()\n",
    "    print('init p1Status')\n",
    "cur.execute(\"select * from config where title=:title\", {\"title\": \"p2ByPass\"})\n",
    "# check p1ByPass\n",
    "data = cur.fetchall()\n",
    "if len(data) == 0:\n",
    "    cur.execute(\"insert into config values (?,?)\", [(\"p2ByPass\"),(\"0\")])\n",
    "    con.commit()\n",
    "    print('init p2ByPass')\n",
    "cur.execute(\"select * from config where title=:title\", {\"title\": \"p2Status\"})\n",
    "# check p2Status\n",
    "data = cur.fetchall()\n",
    "if len(data) == 0:\n",
    "    cur.execute(\"insert into config values (?,?)\", [(\"p2Status\"),(\"0\")])\n",
    "    con.commit()\n",
    "    print('init p2Status')"
   ]
  },
  {
   "cell_type": "markdown",
   "metadata": {},
   "source": [
    "### Update P1ByPass -> Enable"
   ]
  },
  {
   "cell_type": "code",
   "execution_count": 22,
   "metadata": {},
   "outputs": [],
   "source": [
    "con = sqlite3.connect('celemony.db')\n",
    "cur = con.cursor()\n",
    "cur.execute(\"update config set amount=1 where title='p1ByPass'\")\n",
    "con.commit()\n",
    "con.close()"
   ]
  },
  {
   "cell_type": "markdown",
   "metadata": {},
   "source": [
    "### Update P2ByPass -> Enable"
   ]
  },
  {
   "cell_type": "code",
   "execution_count": 31,
   "metadata": {},
   "outputs": [],
   "source": [
    "con = sqlite3.connect('celemony.db')\n",
    "cur = con.cursor()\n",
    "cur.execute(\"update config set amount=1 where title='p2ByPass'\")\n",
    "con.commit()\n",
    "con.close()"
   ]
  },
  {
   "cell_type": "markdown",
   "metadata": {},
   "source": [
    "### Update P1ByPass -> Disable"
   ]
  },
  {
   "cell_type": "code",
   "execution_count": 17,
   "metadata": {},
   "outputs": [],
   "source": [
    "con = sqlite3.connect('celemony.db')\n",
    "cur = con.cursor()\n",
    "cur.execute(\"update config set amount=0 where title='p1ByPass'\")\n",
    "con.commit()\n",
    "con.close()"
   ]
  },
  {
   "cell_type": "markdown",
   "metadata": {},
   "source": [
    "### Update P2ByPass -> Disable"
   ]
  },
  {
   "cell_type": "code",
   "execution_count": null,
   "metadata": {},
   "outputs": [],
   "source": [
    "con = sqlite3.connect('celemony.db')\n",
    "cur = con.cursor()\n",
    "cur.execute(\"update config set amount=0 where title='p2ByPass'\")\n",
    "con.commit()\n",
    "con.close()"
   ]
  },
  {
   "cell_type": "markdown",
   "metadata": {},
   "source": [
    "### Update P1 -> Reset"
   ]
  },
  {
   "cell_type": "code",
   "execution_count": 32,
   "metadata": {},
   "outputs": [],
   "source": [
    "con = sqlite3.connect('celemony.db')\n",
    "cur = con.cursor()\n",
    "cur.execute(\"update config set amount=-1 where title='p1Status'\")\n",
    "con.commit()\n",
    "con.close()"
   ]
  },
  {
   "cell_type": "markdown",
   "metadata": {},
   "source": [
    "### Update P2 -> Reset"
   ]
  },
  {
   "cell_type": "code",
   "execution_count": 33,
   "metadata": {},
   "outputs": [],
   "source": [
    "con = sqlite3.connect('celemony.db')\n",
    "cur = con.cursor()\n",
    "cur.execute(\"update config set amount=-1 where title='p2Status'\")\n",
    "con.commit()\n",
    "con.close()"
   ]
  },
  {
   "cell_type": "code",
   "execution_count": null,
   "metadata": {},
   "outputs": [],
   "source": []
  }
 ],
 "metadata": {
  "kernelspec": {
   "display_name": "Python 3",
   "language": "python",
   "name": "python3"
  },
  "language_info": {
   "codemirror_mode": {
    "name": "ipython",
    "version": 3
   },
   "file_extension": ".py",
   "mimetype": "text/x-python",
   "name": "python",
   "nbconvert_exporter": "python",
   "pygments_lexer": "ipython3",
   "version": "3.8.5"
  }
 },
 "nbformat": 4,
 "nbformat_minor": 5
}
